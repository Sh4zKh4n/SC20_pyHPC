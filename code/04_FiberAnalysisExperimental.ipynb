{
 "cells": [
  {
   "cell_type": "markdown",
   "metadata": {},
   "source": [
    "# Highlight Fibers with Hessian-Based \"Vesselness\""
   ]
  },
  {
   "cell_type": "code",
   "execution_count": 1,
   "metadata": {},
   "outputs": [],
   "source": [
    "import matplotlib.pylab as plt\n",
    "%matplotlib inline\n",
    "\n",
    "from pathlib import Path\n",
    "import numpy as np\n",
    "\n",
    "from skimage.morphology import skeletonize\n",
    "import itk\n",
    "from distutils.version import StrictVersion as VS\n",
    "if VS(itk.Version.GetITKVersion()) < VS(\"5.0.0\"):\n",
    "    print(\"ITK 5.0.0 or newer is required.\")\n",
    "    sys.exit(1)\n",
    "import skan\n",
    "import sys\n",
    "import os\n",
    "sys.path.append(str(Path(os.getcwd()) / '..' / 'src' ))\n",
    "from skan_extensions import FilterableSkeleton\n",
    "from itkwidgets import view, compare"
   ]
  },
  {
   "cell_type": "code",
   "execution_count": 2,
   "metadata": {},
   "outputs": [],
   "source": [
    "DATA_DIR = Path('../data')"
   ]
  },
  {
   "cell_type": "code",
   "execution_count": 3,
   "metadata": {},
   "outputs": [],
   "source": [
    "file_name = str(DATA_DIR / 'larson_roi.tif')"
   ]
  },
  {
   "cell_type": "code",
   "execution_count": 4,
   "metadata": {},
   "outputs": [],
   "source": [
    "image = itk.imread(file_name, itk.UC)"
   ]
  },
  {
   "cell_type": "code",
   "execution_count": 5,
   "metadata": {},
   "outputs": [
    {
     "data": {
      "application/vnd.jupyter.widget-view+json": {
       "model_id": "35cfc5374a1842be8eef138e0978eecb",
       "version_major": 2,
       "version_minor": 0
      },
      "text/plain": [
       "Viewer(geometries=[], gradient_opacity=0.3, point_sets=[], rendered_image=<itkImagePython.itkImageUC3; proxy o…"
      ]
     },
     "metadata": {},
     "output_type": "display_data"
    }
   ],
   "source": [
    "view(image, vmin=80, shadow=False, gradient_opacity=0.3, ui_collapsed=True)"
   ]
  },
  {
   "cell_type": "code",
   "execution_count": 6,
   "metadata": {},
   "outputs": [
    {
     "data": {
      "application/vnd.jupyter.widget-view+json": {
       "model_id": "b1d802820a544a0db054a603ba582197",
       "version_major": 2,
       "version_minor": 0
      },
      "text/plain": [
       "Viewer(geometries=[], gradient_opacity=0.22, mode='z', point_sets=[], rendered_image=<itkImagePython.itkImageU…"
      ]
     },
     "metadata": {},
     "output_type": "display_data"
    }
   ],
   "source": [
    "view(image, vmin=80, mode='z', ui_collapsed=True)"
   ]
  },
  {
   "cell_type": "code",
   "execution_count": 7,
   "metadata": {},
   "outputs": [
    {
     "data": {
      "application/vnd.jupyter.widget-view+json": {
       "model_id": "5bdb81af66a847c39c6c8716ecaf4799",
       "version_major": 2,
       "version_minor": 0
      },
      "text/plain": [
       "Viewer(geometries=[], gradient_opacity=0.22, mode='z', point_sets=[], rendered_image=<itkImagePython.itkImageF…"
      ]
     },
     "metadata": {},
     "output_type": "display_data"
    }
   ],
   "source": [
    "sigma = 4.0\n",
    "hessian = itk.hessian_recursive_gaussian_image_filter(image, sigma=sigma)\n",
    "vesselness_filter = itk.Hessian3DToVesselnessMeasureImageFilter[itk.ctype('float')].New(hessian)\n",
    "vesselness_filter.Update()\n",
    "vesselness = vesselness_filter.GetOutput()\n",
    "view(vesselness, mode='z', vmax=0.5)"
   ]
  },
  {
   "cell_type": "code",
   "execution_count": 8,
   "metadata": {},
   "outputs": [
    {
     "data": {
      "application/vnd.jupyter.widget-view+json": {
       "model_id": "039748d6e51e48eaa8f7eafe270473e2",
       "version_major": 2,
       "version_minor": 0
      },
      "text/plain": [
       "AppLayout(children=(HBox(children=(Label(value='Link:'), Checkbox(value=False, description='cmap'), Checkbox(v…"
      ]
     },
     "metadata": {},
     "output_type": "display_data"
    }
   ],
   "source": [
    "compare(image, vesselness, gradient_opacity=0.2, shadow=False, mode='z')"
   ]
  },
  {
   "cell_type": "code",
   "execution_count": 9,
   "metadata": {},
   "outputs": [
    {
     "data": {
      "application/vnd.jupyter.widget-view+json": {
       "model_id": "1d2e5ee1f4694922951b495aec800622",
       "version_major": 2,
       "version_minor": 0
      },
      "text/plain": [
       "AppLayout(children=(HBox(children=(Label(value='Link:'), Checkbox(value=False, description='cmap'), Checkbox(v…"
      ]
     },
     "metadata": {},
     "output_type": "display_data"
    }
   ],
   "source": [
    "thresh = itk.otsu_threshold_image_filter(vesselness)\n",
    "compare(vesselness, thresh, interpolate=False, mode='z')"
   ]
  },
  {
   "cell_type": "code",
   "execution_count": 10,
   "metadata": {},
   "outputs": [],
   "source": [
    "inverted = itk.invert_intensity_image_filter(thresh)"
   ]
  },
  {
   "cell_type": "code",
   "execution_count": 11,
   "metadata": {},
   "outputs": [],
   "source": [
    "skeleton = itk.medial_thickness_image_filter3_d(inverted)"
   ]
  },
  {
   "cell_type": "code",
   "execution_count": 12,
   "metadata": {},
   "outputs": [],
   "source": [
    "csr_skeleton = skan.csr.Skeleton(itk.array_from_image(skeleton))"
   ]
  },
  {
   "cell_type": "code",
   "execution_count": 13,
   "metadata": {},
   "outputs": [
    {
     "data": {
      "application/vnd.jupyter.widget-view+json": {
       "model_id": "7e845cf4cd0e40f785f607a95614b2d2",
       "version_major": 2,
       "version_minor": 0
      },
      "text/plain": [
       "Viewer(geometries=[{'vtkClass': 'vtkPolyData', 'points': {'vtkClass': 'vtkPoints', 'name': '_points', 'numberO…"
      ]
     },
     "metadata": {},
     "output_type": "display_data"
    }
   ],
   "source": [
    "view(geometries=csr_skeleton)"
   ]
  },
  {
   "cell_type": "code",
   "execution_count": 14,
   "metadata": {},
   "outputs": [
    {
     "data": {
      "text/html": [
       "<div>\n",
       "<style scoped>\n",
       "    .dataframe tbody tr th:only-of-type {\n",
       "        vertical-align: middle;\n",
       "    }\n",
       "\n",
       "    .dataframe tbody tr th {\n",
       "        vertical-align: top;\n",
       "    }\n",
       "\n",
       "    .dataframe thead th {\n",
       "        text-align: right;\n",
       "    }\n",
       "</style>\n",
       "<table border=\"1\" class=\"dataframe\">\n",
       "  <thead>\n",
       "    <tr style=\"text-align: right;\">\n",
       "      <th></th>\n",
       "      <th>skeleton-id</th>\n",
       "      <th>node-id-src</th>\n",
       "      <th>node-id-dst</th>\n",
       "      <th>branch-distance</th>\n",
       "      <th>branch-type</th>\n",
       "      <th>mean-pixel-value</th>\n",
       "      <th>stdev-pixel-value</th>\n",
       "      <th>image-coord-src-0</th>\n",
       "      <th>image-coord-src-1</th>\n",
       "      <th>image-coord-src-2</th>\n",
       "      <th>image-coord-dst-0</th>\n",
       "      <th>image-coord-dst-1</th>\n",
       "      <th>image-coord-dst-2</th>\n",
       "      <th>coord-src-0</th>\n",
       "      <th>coord-src-1</th>\n",
       "      <th>coord-src-2</th>\n",
       "      <th>coord-dst-0</th>\n",
       "      <th>coord-dst-1</th>\n",
       "      <th>coord-dst-2</th>\n",
       "      <th>euclidean-distance</th>\n",
       "    </tr>\n",
       "  </thead>\n",
       "  <tbody>\n",
       "    <tr>\n",
       "      <td>0</td>\n",
       "      <td>1</td>\n",
       "      <td>1</td>\n",
       "      <td>333</td>\n",
       "      <td>4.000000</td>\n",
       "      <td>0</td>\n",
       "      <td>1.0</td>\n",
       "      <td>0.0</td>\n",
       "      <td>0.0</td>\n",
       "      <td>68.0</td>\n",
       "      <td>23.0</td>\n",
       "      <td>4.0</td>\n",
       "      <td>68.0</td>\n",
       "      <td>23.0</td>\n",
       "      <td>0.0</td>\n",
       "      <td>68.0</td>\n",
       "      <td>23.0</td>\n",
       "      <td>4.0</td>\n",
       "      <td>68.0</td>\n",
       "      <td>23.0</td>\n",
       "      <td>4.000000</td>\n",
       "    </tr>\n",
       "    <tr>\n",
       "      <td>1</td>\n",
       "      <td>2</td>\n",
       "      <td>2</td>\n",
       "      <td>353</td>\n",
       "      <td>4.000000</td>\n",
       "      <td>0</td>\n",
       "      <td>1.0</td>\n",
       "      <td>0.0</td>\n",
       "      <td>0.0</td>\n",
       "      <td>97.0</td>\n",
       "      <td>221.0</td>\n",
       "      <td>4.0</td>\n",
       "      <td>97.0</td>\n",
       "      <td>221.0</td>\n",
       "      <td>0.0</td>\n",
       "      <td>97.0</td>\n",
       "      <td>221.0</td>\n",
       "      <td>4.0</td>\n",
       "      <td>97.0</td>\n",
       "      <td>221.0</td>\n",
       "      <td>4.000000</td>\n",
       "    </tr>\n",
       "    <tr>\n",
       "      <td>2</td>\n",
       "      <td>3</td>\n",
       "      <td>3</td>\n",
       "      <td>639</td>\n",
       "      <td>5.000000</td>\n",
       "      <td>0</td>\n",
       "      <td>1.0</td>\n",
       "      <td>0.0</td>\n",
       "      <td>0.0</td>\n",
       "      <td>289.0</td>\n",
       "      <td>299.0</td>\n",
       "      <td>5.0</td>\n",
       "      <td>289.0</td>\n",
       "      <td>299.0</td>\n",
       "      <td>0.0</td>\n",
       "      <td>289.0</td>\n",
       "      <td>299.0</td>\n",
       "      <td>5.0</td>\n",
       "      <td>289.0</td>\n",
       "      <td>299.0</td>\n",
       "      <td>5.000000</td>\n",
       "    </tr>\n",
       "    <tr>\n",
       "      <td>3</td>\n",
       "      <td>4</td>\n",
       "      <td>4</td>\n",
       "      <td>44797</td>\n",
       "      <td>219.071068</td>\n",
       "      <td>0</td>\n",
       "      <td>1.0</td>\n",
       "      <td>0.0</td>\n",
       "      <td>1.0</td>\n",
       "      <td>2.0</td>\n",
       "      <td>9.0</td>\n",
       "      <td>218.0</td>\n",
       "      <td>4.0</td>\n",
       "      <td>6.0</td>\n",
       "      <td>1.0</td>\n",
       "      <td>2.0</td>\n",
       "      <td>9.0</td>\n",
       "      <td>218.0</td>\n",
       "      <td>4.0</td>\n",
       "      <td>6.0</td>\n",
       "      <td>217.029952</td>\n",
       "    </tr>\n",
       "    <tr>\n",
       "      <td>4</td>\n",
       "      <td>5</td>\n",
       "      <td>5</td>\n",
       "      <td>480</td>\n",
       "      <td>4.828427</td>\n",
       "      <td>0</td>\n",
       "      <td>1.0</td>\n",
       "      <td>0.0</td>\n",
       "      <td>1.0</td>\n",
       "      <td>2.0</td>\n",
       "      <td>261.0</td>\n",
       "      <td>5.0</td>\n",
       "      <td>2.0</td>\n",
       "      <td>261.0</td>\n",
       "      <td>1.0</td>\n",
       "      <td>2.0</td>\n",
       "      <td>261.0</td>\n",
       "      <td>5.0</td>\n",
       "      <td>2.0</td>\n",
       "      <td>261.0</td>\n",
       "      <td>4.000000</td>\n",
       "    </tr>\n",
       "  </tbody>\n",
       "</table>\n",
       "</div>"
      ],
      "text/plain": [
       "   skeleton-id  node-id-src  node-id-dst  branch-distance  branch-type  \\\n",
       "0            1            1          333         4.000000            0   \n",
       "1            2            2          353         4.000000            0   \n",
       "2            3            3          639         5.000000            0   \n",
       "3            4            4        44797       219.071068            0   \n",
       "4            5            5          480         4.828427            0   \n",
       "\n",
       "   mean-pixel-value  stdev-pixel-value  image-coord-src-0  image-coord-src-1  \\\n",
       "0               1.0                0.0                0.0               68.0   \n",
       "1               1.0                0.0                0.0               97.0   \n",
       "2               1.0                0.0                0.0              289.0   \n",
       "3               1.0                0.0                1.0                2.0   \n",
       "4               1.0                0.0                1.0                2.0   \n",
       "\n",
       "   image-coord-src-2  image-coord-dst-0  image-coord-dst-1  image-coord-dst-2  \\\n",
       "0               23.0                4.0               68.0               23.0   \n",
       "1              221.0                4.0               97.0              221.0   \n",
       "2              299.0                5.0              289.0              299.0   \n",
       "3                9.0              218.0                4.0                6.0   \n",
       "4              261.0                5.0                2.0              261.0   \n",
       "\n",
       "   coord-src-0  coord-src-1  coord-src-2  coord-dst-0  coord-dst-1  \\\n",
       "0          0.0         68.0         23.0          4.0         68.0   \n",
       "1          0.0         97.0        221.0          4.0         97.0   \n",
       "2          0.0        289.0        299.0          5.0        289.0   \n",
       "3          1.0          2.0          9.0        218.0          4.0   \n",
       "4          1.0          2.0        261.0          5.0          2.0   \n",
       "\n",
       "   coord-dst-2  euclidean-distance  \n",
       "0         23.0            4.000000  \n",
       "1        221.0            4.000000  \n",
       "2        299.0            5.000000  \n",
       "3          6.0          217.029952  \n",
       "4        261.0            4.000000  "
      ]
     },
     "execution_count": 14,
     "metadata": {},
     "output_type": "execute_result"
    }
   ],
   "source": [
    "branch_data = skan.summarize(csr_skeleton)\n",
    "branch_data.head()"
   ]
  },
  {
   "cell_type": "code",
   "execution_count": 15,
   "metadata": {},
   "outputs": [
    {
     "data": {
      "text/plain": [
       "array([[<matplotlib.axes._subplots.AxesSubplot object at 0x2aacb3eb3f90>,\n",
       "        <matplotlib.axes._subplots.AxesSubplot object at 0x2aacb81e8c90>],\n",
       "       [<matplotlib.axes._subplots.AxesSubplot object at 0x2aacb821e910>,\n",
       "        <matplotlib.axes._subplots.AxesSubplot object at 0x2aacb823c590>]],\n",
       "      dtype=object)"
      ]
     },
     "execution_count": 15,
     "metadata": {},
     "output_type": "execute_result"
    },
    {
     "data": {
      "image/png": "[encoded data removed]",
      "text/plain": [
       "<Figure size 432x288 with 4 Axes>"
      ]
     },
     "metadata": {
      "needs_background": "light"
     },
     "output_type": "display_data"
    }
   ],
   "source": [
    "branch_data.hist(column='branch-distance', by='branch-type', bins=100)"
   ]
  },
  {
   "cell_type": "code",
   "execution_count": 16,
   "metadata": {},
   "outputs": [
    {
     "data": {
      "text/plain": [
       "array([[1.00000000e+00, 3.33000000e+02, 4.00000000e+00, 0.00000000e+00],\n",
       "       [2.00000000e+00, 3.53000000e+02, 4.00000000e+00, 0.00000000e+00],\n",
       "       [3.00000000e+00, 6.39000000e+02, 5.00000000e+00, 0.00000000e+00],\n",
       "       ...,\n",
       "       [4.49400000e+04, 4.51300000e+04, 3.00000000e+00, 0.00000000e+00],\n",
       "       [4.49510000e+04, 4.50780000e+04, 2.73205081e+00, 0.00000000e+00],\n",
       "       [3.98620000e+04, 4.50790000e+04, 2.73205081e+00, 1.00000000e+00]])"
      ]
     },
     "execution_count": 16,
     "metadata": {},
     "output_type": "execute_result"
    }
   ],
   "source": [
    "statistics = skan.csr.branch_statistics(csr_skeleton.graph)\n",
    "\n",
    "# Columns are: branch endpoint IDs, length, branch type, average pixel value along graph\n",
    "statistics"
   ]
  },
  {
   "cell_type": "code",
   "execution_count": 17,
   "metadata": {},
   "outputs": [],
   "source": [
    "fcsr_skeleton = FilterableSkeleton(itk.array_from_image(skeleton))"
   ]
  },
  {
   "cell_type": "code",
   "execution_count": 18,
   "metadata": {},
   "outputs": [
    {
     "data": {
      "text/plain": [
       "198"
      ]
     },
     "execution_count": 18,
     "metadata": {},
     "output_type": "execute_result"
    }
   ],
   "source": [
    "fcsr_skeleton.remove_paths(min_length=100.0, branch_types=range(1))\n",
    "fcsr_skeleton.n_paths"
   ]
  },
  {
   "cell_type": "code",
   "execution_count": 19,
   "metadata": {},
   "outputs": [
    {
     "data": {
      "application/vnd.jupyter.widget-view+json": {
       "model_id": "cbfee7053f9c43448f04ca9da32e7e76",
       "version_major": 2,
       "version_minor": 0
      },
      "text/plain": [
       "Viewer(geometries=[{'vtkClass': 'vtkPolyData', 'points': {'vtkClass': 'vtkPoints', 'name': '_points', 'numberO…"
      ]
     },
     "metadata": {},
     "output_type": "display_data"
    }
   ],
   "source": [
    "view(geometries=[fcsr_skeleton])"
   ]
  },
  {
   "cell_type": "code",
   "execution_count": 20,
   "metadata": {},
   "outputs": [
    {
     "data": {
      "text/plain": [
       "(array([ 1.,  0.,  0.,  0.,  1.,  1.,  0.,  0.,  0.,  0.,  0.,  0.,  0.,\n",
       "         0.,  0.,  0.,  0.,  0.,  1.,  0.,  1.,  0.,  1.,  0.,  0.,  1.,\n",
       "         0.,  0.,  0.,  0.,  1.,  0.,  0.,  1.,  0.,  0.,  0.,  0.,  0.,\n",
       "         1.,  0.,  2.,  1.,  1.,  0.,  0.,  0.,  0.,  0.,  0.,  0.,  0.,\n",
       "         0.,  1.,  0.,  0.,  1.,  0.,  1.,  1.,  0.,  0.,  2.,  3.,  1.,\n",
       "         1.,  1.,  0.,  0.,  0.,  2.,  0.,  1.,  0.,  3.,  0.,  3.,  4.,\n",
       "         6.,  1.,  2.,  1.,  3.,  2.,  6., 11.,  6., 14., 15., 25., 21.,\n",
       "        11., 12., 10.,  4.,  2.,  1.,  3.,  1.,  2.]),\n",
       " array([104.50986092, 105.81891658, 107.12797223, 108.43702789,\n",
       "        109.74608354, 111.0551392 , 112.36419486, 113.67325051,\n",
       "        114.98230617, 116.29136182, 117.60041748, 118.90947313,\n",
       "        120.21852879, 121.52758444, 122.8366401 , 124.14569576,\n",
       "        125.45475141, 126.76380707, 128.07286272, 129.38191838,\n",
       "        130.69097403, 132.00002969, 133.30908534, 134.618141  ,\n",
       "        135.92719666, 137.23625231, 138.54530797, 139.85436362,\n",
       "        141.16341928, 142.47247493, 143.78153059, 145.09058624,\n",
       "        146.3996419 , 147.70869755, 149.01775321, 150.32680887,\n",
       "        151.63586452, 152.94492018, 154.25397583, 155.56303149,\n",
       "        156.87208714, 158.1811428 , 159.49019845, 160.79925411,\n",
       "        162.10830977, 163.41736542, 164.72642108, 166.03547673,\n",
       "        167.34453239, 168.65358804, 169.9626437 , 171.27169935,\n",
       "        172.58075501, 173.88981067, 175.19886632, 176.50792198,\n",
       "        177.81697763, 179.12603329, 180.43508894, 181.7441446 ,\n",
       "        183.05320025, 184.36225591, 185.67131157, 186.98036722,\n",
       "        188.28942288, 189.59847853, 190.90753419, 192.21658984,\n",
       "        193.5256455 , 194.83470115, 196.14375681, 197.45281247,\n",
       "        198.76186812, 200.07092378, 201.37997943, 202.68903509,\n",
       "        203.99809074, 205.3071464 , 206.61620205, 207.92525771,\n",
       "        209.23431337, 210.54336902, 211.85242468, 213.16148033,\n",
       "        214.47053599, 215.77959164, 217.0886473 , 218.39770295,\n",
       "        219.70675861, 221.01581427, 222.32486992, 223.63392558,\n",
       "        224.94298123, 226.25203689, 227.56109254, 228.8701482 ,\n",
       "        230.17920385, 231.48825951, 232.79731517, 234.10637082,\n",
       "        235.41542648]),\n",
       " <a list of 100 Patch objects>)"
      ]
     },
     "execution_count": 20,
     "metadata": {},
     "output_type": "execute_result"
    },
    {
     "data": {
      "image/png": "[encoded data removed]",
      "text/plain": [
       "<Figure size 432x288 with 1 Axes>"
      ]
     },
     "metadata": {
      "needs_background": "light"
     },
     "output_type": "display_data"
    }
   ],
   "source": [
    "plt.hist(fcsr_skeleton.distances, bins=100)"
   ]
  },
  {
   "cell_type": "code",
   "execution_count": null,
   "metadata": {},
   "outputs": [],
   "source": []
  }
 ],
 "metadata": {
  "kernelspec": {
   "display_name": "Python 3",
   "language": "python",
   "name": "python3"
  },
  "language_info": {
   "codemirror_mode": {
    "name": "ipython",
    "version": 3
   },
   "file_extension": ".py",
   "mimetype": "text/x-python",
   "name": "python",
   "nbconvert_exporter": "python",
   "pygments_lexer": "ipython3",
   "version": "3.7.4"
  },
  "toc": {
   "base_numbering": 1,
   "nav_menu": {},
   "number_sections": true,
   "sideBar": true,
   "skip_h1_title": false,
   "title_cell": "Table of Contents",
   "title_sidebar": "Contents",
   "toc_cell": false,
   "toc_position": {},
   "toc_section_display": true,
   "toc_window_display": false
  }
 },
 "nbformat": 4,
 "nbformat_minor": 4
}
