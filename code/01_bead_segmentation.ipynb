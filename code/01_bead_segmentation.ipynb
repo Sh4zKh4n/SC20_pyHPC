{
 "cells": [
  {
   "cell_type": "markdown",
   "metadata": {},
   "source": [
    "# 3D Material Bead Packing XCT Simulation Instance Segmentation"
   ]
  },
  {
   "cell_type": "code",
   "execution_count": 2,
   "metadata": {},
   "outputs": [],
   "source": [
    "import os\n",
    "\n",
    "import itk\n",
    "import numpy as np\n",
    "from matplotlib import pyplot as plt\n",
    "from itkwidgets import view, label_statistics\n",
    "import itkwidgets"
   ]
  },
  {
   "cell_type": "code",
   "execution_count": 3,
   "metadata": {},
   "outputs": [
    {
     "data": {
      "application/vnd.jupyter.widget-view+json": {
       "model_id": "341c2b660dc54662b59c78a53bf226c8",
       "version_major": 2,
       "version_minor": 0
      },
      "text/plain": [
       "Viewer(geometries=[], gradient_opacity=0.22, point_sets=[], rendered_image=<itk.itkImagePython.itkImageUC3; pr…"
      ]
     },
     "metadata": {},
     "output_type": "display_data"
    }
   ],
   "source": [
    "file_name = '../data/bead_pack.tif'\n",
    "beads = itk.imread(file_name)\n",
    "viewer = view(beads, ui_collapsed=True)\n",
    "viewer"
   ]
  },
  {
   "cell_type": "code",
   "execution_count": 4,
   "metadata": {},
   "outputs": [],
   "source": [
    "sharpened = itk.unsharp_mask_image_filter(beads, sigma=2.0, threshold=10.0, amount=5.0)\n",
    "viewer.image = sharpened\n",
    "viewer.mode = 'x'"
   ]
  },
  {
   "cell_type": "code",
   "execution_count": 5,
   "metadata": {},
   "outputs": [],
   "source": [
    "invert = itk.invert_intensity_image_filter(sharpened)\n",
    "thresholded = itk.otsu_threshold_image_filter(invert)\n",
    "viewer.image = thresholded\n",
    "viewer.interpolation = False"
   ]
  },
  {
   "cell_type": "code",
   "execution_count": 14,
   "metadata": {},
   "outputs": [
    {
     "data": {
      "text/plain": [
       "itk.itkImagePython.itkImageSS3"
      ]
     },
     "execution_count": 14,
     "metadata": {},
     "output_type": "execute_result"
    }
   ],
   "source": [
    "type(watershed)"
   ]
  },
  {
   "cell_type": "code",
   "execution_count": 7,
   "metadata": {},
   "outputs": [],
   "source": [
    "StructuringElementType = itk.FlatStructuringElement[3]\n",
    "structuring_element = StructuringElementType.Ball(3, True)\n",
    "opened = itk.binary_morphological_opening_image_filter(thresholded,\n",
    "                                                       kernel=structuring_element)\n",
    "viewer.image = opened"
   ]
  },
  {
   "cell_type": "code",
   "execution_count": 9,
   "metadata": {},
   "outputs": [],
   "source": [
    "filled = itk.binary_fillhole_image_filter(opened, fully_connected=True)\n",
    "viewer.image = filled"
   ]
  },
  {
   "cell_type": "code",
   "execution_count": 10,
   "metadata": {},
   "outputs": [
    {
     "data": {
      "application/vnd.jupyter.widget-view+json": {
       "model_id": "7dbffcef0cad4a229b244ff70c77210c",
       "version_major": 2,
       "version_minor": 0
      },
      "text/plain": [
       "Viewer(geometries=[], gradient_opacity=0.22, point_sets=[], rendered_image=<itk.itkImagePython.itkImageF3; pro…"
      ]
     },
     "metadata": {},
     "output_type": "display_data"
    }
   ],
   "source": [
    "distance = itk.signed_maurer_distance_map_image_filter(filled, inside_is_positive=False)\n",
    "view(distance)"
   ]
  },
  {
   "cell_type": "code",
   "execution_count": 11,
   "metadata": {},
   "outputs": [],
   "source": [
    "watershed = itk.morphological_watershed_image_filter(distance, level=7.0)"
   ]
  },
  {
   "cell_type": "code",
   "execution_count": 12,
   "metadata": {},
   "outputs": [],
   "source": [
    "filled_cast = itk.cast_image_filter(filled, ttype=(type(filled), type(watershed)))\n",
    "watershed_mask = itk.mask_image_filter(watershed, filled_cast)"
   ]
  },
  {
   "cell_type": "code",
   "execution_count": 12,
   "metadata": {},
   "outputs": [
    {
     "data": {
      "application/vnd.jupyter.widget-view+json": {
       "model_id": "a256f52d549a425eb831ae851fc47bcd",
       "version_major": 2,
       "version_minor": 0
      },
      "text/plain": [
       "Viewer(geometries=[], gradient_opacity=0.5, interpolation=False, label_image_blend=0.7, label_image_names=[(0,…"
      ]
     },
     "metadata": {},
     "output_type": "display_data"
    }
   ],
   "source": [
    "names = [(0, 'Background'), (1, 'Bead')]\n",
    "view(beads, label_image=watershed_mask, \n",
    "      label_image_names=names,\n",
    "      label_image_blend=0.7,\n",
    "      rotate=True,\n",
    "      shadow=False,\n",
    "      gradient_opacity=0.5)"
   ]
  },
  {
   "cell_type": "code",
   "execution_count": 13,
   "metadata": {},
   "outputs": [
    {
     "data": {
      "application/vnd.jupyter.widget-view+json": {
       "model_id": "3fa7188ec2e84fdea3392575970018d5",
       "version_major": 2,
       "version_minor": 0
      },
      "text/plain": [
       "AppLayout(children=(Viewer(interpolation=False, label_image_blend=0.75, layout=Layout(grid_area='header'), ren…"
      ]
     },
     "metadata": {},
     "output_type": "display_data"
    }
   ],
   "source": [
    "label_statistics(beads, watershed_mask, histogram=True)"
   ]
  },
  {
   "cell_type": "code",
   "execution_count": null,
   "metadata": {},
   "outputs": [],
   "source": []
  }
 ],
 "metadata": {
  "kernelspec": {
   "display_name": "Python 3",
   "language": "python",
   "name": "python3"
  },
  "language_info": {
   "codemirror_mode": {
    "name": "ipython",
    "version": 3
   },
   "file_extension": ".py",
   "mimetype": "text/x-python",
   "name": "python",
   "nbconvert_exporter": "python",
   "pygments_lexer": "ipython3",
   "version": "3.8.5"
  }
 },
 "nbformat": 4,
 "nbformat_minor": 4
}
