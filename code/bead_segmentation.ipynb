{
 "cells": [
  {
   "cell_type": "code",
   "execution_count": 1,
   "metadata": {},
   "outputs": [],
   "source": [
    "import os\n",
    "\n",
    "import itk\n",
    "import numpy as np\n",
    "from matplotlib import pyplot as plt\n",
    "from itkwidgets import view\n",
    "import itkwidgets"
   ]
  },
  {
   "cell_type": "code",
   "execution_count": 2,
   "metadata": {},
   "outputs": [],
   "source": [
    "## read image and denoise\n",
    "file_name = 'data/bead_pack.tif'\n",
    "bead_img = itk.imread(file_name)"
   ]
  },
  {
   "cell_type": "code",
   "execution_count": 3,
   "metadata": {
    "scrolled": false
   },
   "outputs": [
    {
     "data": {
      "application/vnd.jupyter.widget-view+json": {
<<<<<<< HEAD
       "model_id": "f2597a05bc6742a191e8f3ea64e96708",
=======
       "model_id": "5f3bb607eb164481a2142e8d500e08cf",
>>>>>>> 32aeae75462a82d00bb7269500eae5dfaf588695
       "version_major": 2,
       "version_minor": 0
      },
      "text/plain": [
       "Viewer(geometries=[], gradient_opacity=0.22, point_sets=[], rendered_image=<itk.itkImagePython.itkImageUC3; pr…"
      ]
     },
     "metadata": {},
     "output_type": "display_data"
    }
   ],
   "source": [
    "view(bead_img)"
   ]
  },
  {
   "cell_type": "code",
<<<<<<< HEAD
   "execution_count": 4,
   "metadata": {
    "scrolled": false
   },
   "outputs": [
    {
     "data": {
      "application/vnd.jupyter.widget-view+json": {
       "model_id": "55871d02ede34d02b838ad1b74382210",
       "version_major": 2,
       "version_minor": 0
      },
      "text/plain": [
       "Viewer(geometries=[], gradient_opacity=0.22, point_sets=[], rendered_image=<itk.itkImagePython.itkImageUC3; pr…"
      ]
     },
     "metadata": {},
     "output_type": "display_data"
    }
   ],
=======
   "execution_count": null,
   "metadata": {
    "scrolled": false
   },
   "outputs": [],
>>>>>>> 32aeae75462a82d00bb7269500eae5dfaf588695
   "source": [
    "bilateral_filter = itk.bilateral_image_filter(bead_img, radius=12)\n",
    "denoised_image = bilateral_filter\n",
    "view(denoised_image, ui_collapsed=True)"
   ]
  },
  {
   "cell_type": "code",
<<<<<<< HEAD
   "execution_count": 5,
   "metadata": {},
   "outputs": [
    {
     "data": {
      "application/vnd.jupyter.widget-view+json": {
       "model_id": "d173f34cb67e4782af479a17799d62f7",
       "version_major": 2,
       "version_minor": 0
      },
      "text/plain": [
       "Viewer(geometries=[], gradient_opacity=0.22, point_sets=[], rendered_image=<itk.itkImagePython.itkImageUC3; pr…"
      ]
     },
     "metadata": {},
     "output_type": "display_data"
    }
   ],
=======
   "execution_count": null,
   "metadata": {},
   "outputs": [],
>>>>>>> 32aeae75462a82d00bb7269500eae5dfaf588695
   "source": [
    "median_filter = itk.median_image_filter(bead_img)\n",
    "view(median_filter, ui_collapsed=True)"
   ]
  },
  {
   "cell_type": "code",
<<<<<<< HEAD
   "execution_count": 6,
   "metadata": {
    "scrolled": true
   },
   "outputs": [
    {
     "data": {
      "application/vnd.jupyter.widget-view+json": {
       "model_id": "e910a07be46347f686225a0233a1a781",
       "version_major": 2,
       "version_minor": 0
      },
      "text/plain": [
       "Viewer(geometries=[], gradient_opacity=0.22, interpolation=False, point_sets=[], rendered_image=<itk.itkImageP…"
      ]
     },
     "metadata": {},
     "output_type": "display_data"
    }
   ],
=======
   "execution_count": null,
   "metadata": {
    "scrolled": true
   },
   "outputs": [],
>>>>>>> 32aeae75462a82d00bb7269500eae5dfaf588695
   "source": [
    "## thresholding\n",
    "invert = itk.invert_intensity_image_filter(denoised_image)\n",
    "thresholded = itk.otsu_threshold_image_filter(invert)\n",
    "# thresholded = itk.binary_threshold_image_filter(denoised_image, lower_threshold=150)\n",
    "# thresholded = itk.moments_threshold_image_filter(denoised_image)\n",
    "# invert_thresholded = itk.InvertIntensityImageFilter(thresholded)\n",
    "view(bead_img, label_map=thresholded)"
   ]
  },
  {
   "cell_type": "code",
<<<<<<< HEAD
   "execution_count": 7,
   "metadata": {},
   "outputs": [
    {
     "data": {
      "application/vnd.jupyter.widget-view+json": {
       "model_id": "0085393070c542c7be94b91a02f96099",
       "version_major": 2,
       "version_minor": 0
      },
      "text/plain": [
       "Viewer(geometries=[], gradient_opacity=0.22, interpolation=False, point_sets=[], rendered_image=<itk.itkImageP…"
      ]
     },
     "metadata": {},
     "output_type": "display_data"
    }
   ],
=======
   "execution_count": null,
   "metadata": {},
   "outputs": [],
>>>>>>> 32aeae75462a82d00bb7269500eae5dfaf588695
   "source": [
    "### open filter\n",
    "StructuringElementType = itk.FlatStructuringElement[3]\n",
    "radiusType = StructuringElementType.RadiusIsParametricOn\n",
    "structuringElement = StructuringElementType.Ball(3, True)\n",
    "open_image = itk.opening_by_reconstruction_image_filter(thresholded, kernel=structuringElement)\n",
    "# \n",
    "view(bead_img, label_map=open_image)"
   ]
  },
  {
   "cell_type": "code",
<<<<<<< HEAD
   "execution_count": 8,
   "metadata": {},
   "outputs": [
    {
     "data": {
      "application/vnd.jupyter.widget-view+json": {
       "model_id": "59e6fc08accc4da4b3cbf9bab279a39a",
       "version_major": 2,
       "version_minor": 0
      },
      "text/plain": [
       "Viewer(geometries=[], gradient_opacity=0.22, interpolation=False, point_sets=[], rendered_image=<itk.itkImageP…"
      ]
     },
     "metadata": {},
     "output_type": "display_data"
    }
   ],
=======
   "execution_count": null,
   "metadata": {},
   "outputs": [],
>>>>>>> 32aeae75462a82d00bb7269500eae5dfaf588695
   "source": [
    "fill = itk.grayscale_fillhole_image_filter(open_image, fully_connected=True)\n",
    "view(bead_img, label_map=fill)"
   ]
  },
  {
   "cell_type": "code",
<<<<<<< HEAD
   "execution_count": 9,
   "metadata": {
    "scrolled": true
   },
   "outputs": [
    {
     "data": {
      "application/vnd.jupyter.widget-view+json": {
       "model_id": "066eef6b92e14f769b2b343da4223250",
       "version_major": 2,
       "version_minor": 0
      },
      "text/plain": [
       "Viewer(geometries=[], gradient_opacity=0.22, point_sets=[], rendered_image=<itk.itkImagePython.itkImageUC3; pr…"
      ]
     },
     "metadata": {},
     "output_type": "display_data"
    }
   ],
=======
   "execution_count": null,
   "metadata": {
    "scrolled": true
   },
   "outputs": [],
>>>>>>> 32aeae75462a82d00bb7269500eae5dfaf588695
   "source": [
    "## Distance mapping\n",
    "input_image_type = itk.Image[itk.UC, 3]\n",
    "output_image_type  = itk.Image[itk.UC, 3]\n",
    "invert = itk.invert_intensity_image_filter(fill)\n",
    "distance_filter = itk.DanielssonDistanceMapImageFilter[input_image_type, output_image_type].New()\n",
    "# distance_filter = itk.SignedMaurerDistanceMapImageFilter[input_image_type, output_image_type].New()\n",
    "distance_filter.SetInput(invert)\n",
    "distance = distance_filter.GetOutput()\n",
    "inverted_distance = itk.invert_intensity_image_filter(distance)\n",
    "view(distance)"
   ]
  },
  {
   "cell_type": "code",
   "execution_count": null,
   "metadata": {},
   "outputs": [],
   "source": [
    "view(inverted_distance)"
   ]
  },
  {
   "cell_type": "code",
<<<<<<< HEAD
   "execution_count": 10,
   "metadata": {},
   "outputs": [
    {
     "data": {
      "application/vnd.jupyter.widget-view+json": {
       "model_id": "35ed107d72b642d6be16d656dec6bbf4",
       "version_major": 2,
       "version_minor": 0
      },
      "text/plain": [
       "Viewer(geometries=[], gradient_opacity=0.22, point_sets=[], rendered_image=<itk.itkImagePython.itkImageUC3; pr…"
      ]
     },
     "metadata": {},
     "output_type": "display_data"
    }
   ],
=======
   "execution_count": null,
   "metadata": {},
   "outputs": [],
>>>>>>> 32aeae75462a82d00bb7269500eae5dfaf588695
   "source": [
    "### Morphological filter, this contains connected_component_image_filter\n",
    "ws = itk.morphological_watershed_image_filter(Input=inverted_distance, Level=7)\n",
    "view(ws)"
   ]
  },
  {
   "cell_type": "code",
<<<<<<< HEAD
   "execution_count": 11,
   "metadata": {},
   "outputs": [
    {
     "data": {
      "application/vnd.jupyter.widget-view+json": {
       "model_id": "ef70084bf37442abb57f8270ef02fcb5",
       "version_major": 2,
       "version_minor": 0
      },
      "text/plain": [
       "Viewer(geometries=[], gradient_opacity=0.5, interpolation=False, label_map_names=[(0, 'Background'), (1, 'Bead…"
      ]
     },
     "metadata": {},
     "output_type": "display_data"
    }
   ],
=======
   "execution_count": null,
   "metadata": {},
   "outputs": [],
>>>>>>> 32aeae75462a82d00bb7269500eae5dfaf588695
   "source": [
    "ws_mask = itk.mask_image_filter(ws, fill)\n",
    "names = [(0, 'Background'), (1, 'Bead')]\n",
    "view(bead_img, label_map=ws_mask, \n",
    "      label_map_names=names,\n",
    "      label_map_blend=0.3,\n",
    "      rotate=True,\n",
    "      gradient_opacity=0.5,\n",
    "      slicing_planes=True)"
   ]
  },
  {
   "cell_type": "code",
   "execution_count": 123,
   "metadata": {
    "scrolled": true
   },
   "outputs": [
    {
     "data": {
      "application/vnd.jupyter.widget-view+json": {
       "model_id": "2e4c07d2cbc948d9b439c3331e48f8cd",
       "version_major": 2,
       "version_minor": 0
      },
      "text/plain": [
       "Viewer(geometries=[], gradient_opacity=0.5, interpolation=False, label_map_names=[(0, 'Background'), (1, 'Bead…"
      ]
     },
     "metadata": {},
     "output_type": "display_data"
    }
   ],
   "source": [
    "### watershed\n",
    "watershed = itk.watershed_image_filter(inverted_distance, level=0.4)\n",
    "relabel = itk.relabel_component_image_filter(watershed)\n",
    "cast_filter = itk.CastImageFilter[type(relabel), itk.Image[itk.UC, 3]].New()\n",
    "cast_filter.SetInput(relabel)\n",
    "cast_relabel = cast_filter.GetOutput()\n",
    "\n",
    "mask = itk.mask_image_filter(cast_relabel, fill)\n",
    "names = [(0, 'Background'), (1, 'Bead')]\n",
    "view(bead_img, label_map=mask, \n",
    "      label_map_names=names,\n",
    "      label_map_blend=0.3,\n",
    "      rotate=True,\n",
    "      gradient_opacity=0.5,\n",
    "      slicing_planes=True)"
   ]
  },
  {
   "cell_type": "code",
   "execution_count": 109,
   "metadata": {},
   "outputs": [],
   "source": [
    "itk.connected_component_image_filter??"
   ]
  },
  {
   "cell_type": "code",
   "execution_count": 108,
   "metadata": {},
   "outputs": [
    {
     "data": {
      "application/vnd.jupyter.widget-view+json": {
       "model_id": "a0b42b2d289c48019aa7ff3a70574374",
       "version_major": 2,
       "version_minor": 0
      },
      "text/plain": [
       "Viewer(geometries=[], gradient_opacity=0.22, point_sets=[], rendered_image=<itk.itkImagePython.itkImageUC3; pr…"
      ]
     },
     "metadata": {},
     "output_type": "display_data"
    }
   ],
   "source": [
    "### connect components\n",
    "connected_components = itk.connected_component_image_filter(thresholded, BackgroundValue=10)\n",
    "view(connected_components)"
   ]
  },
  {
   "cell_type": "code",
   "execution_count": 10,
   "metadata": {
    "scrolled": true
   },
   "outputs": [
    {
     "name": "stdout",
     "output_type": "stream",
     "text": [
      "Number of labels: 2\n",
      "Label 1 minimum is 59.000000\n",
      "Label 1 maximum is 239.000000\n",
      "Label 1 mean is 171.981104\n",
      "Label 1 sigma is 18.056841\n",
      "Label 0 minimum is 29.000000\n",
      "Label 0 maximum is 165.000000\n",
      "Label 0 mean is 89.649598\n",
      "Label 0 sigma is 16.272561\n"
     ]
    }
   ],
   "source": [
    "### label statistics\n",
    "stats_label_filter = itk.LabelStatisticsImageFilter[type(bead_img), type(ws_mask)].New()\n",
    "stats_label_filter.SetLabelInput(ws_mask)\n",
    "stats_label_filter.SetInput(bead_img)\n",
    "stats_label_filter.Update()\n",
    "print('Number of labels:', stats_label_filter.GetNumberOfLabels())\n",
    "for i in stats_label_filter.GetValidLabelValues():\n",
    "    print('Label %d minimum is %f' % (i, stats_label_filter.GetMinimum(i)))\n",
    "    print('Label %d maximum is %f' % (i, stats_label_filter.GetMaximum(i)))\n",
    "    print('Label %d mean is %f' % (i, stats_label_filter.GetMean(i)))\n",
    "    print('Label %d sigma is %f' % (i, stats_label_filter.GetSigma(i)))\n",
    "## matplotlib??"
   ]
  },
  {
   "cell_type": "code",
   "execution_count": 13,
   "metadata": {},
   "outputs": [],
   "source": [
    "type_label_statistics = itk.label_image_to_statistics_label_map_filter(ws_mask, \n",
    "                                                            bead_img)\n",
    "label_statistics = itk.LabelImageToStatisticsLabelMapFilter[type(ws_mask), type(bead_img), \n",
    "                                                            type(type_label_statistics)].New()\n",
    "label_statistics.SetInput1(ws_mask)\n",
    "label_statistics.SetInput2(bead_img)\n",
    "label_statistics.ComputeHistogramOn()\n",
    "label_statistics.Update()\n",
    "# print(label_statistics)"
   ]
  },
  {
   "cell_type": "code",
   "execution_count": 14,
   "metadata": {},
   "outputs": [
    {
     "name": "stdout",
     "output_type": "stream",
     "text": [
      "(1,)\n"
     ]
    },
    {
     "data": {
      "image/png": "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\n",
      "text/plain": [
       "<Figure size 432x288 with 1 Axes>"
      ]
     },
     "metadata": {
      "needs_background": "light"
     },
     "output_type": "display_data"
    }
   ],
   "source": [
    "## plot histogram\n",
    "label_map = label_statistics.GetOutput()\n",
    "print(label_map.GetLabels())\n",
    "foreground = label_map.GetLabelObject(1)\n",
    "hist = foreground.GetHistogram()\n",
    "freq = []\n",
    "bins = []\n",
    "for i in range(hist.GetSize()[0]):\n",
    "    freq.append(hist.GetFrequency(i))\n",
    "_ = plt.hist(np.array(freq), bins=range(len(freq)))"
   ]
  },
  {
   "cell_type": "code",
   "execution_count": 157,
   "metadata": {},
   "outputs": [
    {
     "data": {
      "text/plain": [
       "128"
      ]
     },
     "execution_count": 157,
     "metadata": {},
     "output_type": "execute_result"
    }
   ],
   "source": [
    "len(freq)"
   ]
  }
 ],
 "metadata": {
  "kernelspec": {
   "display_name": "Python 3",
   "language": "python",
   "name": "python3"
  },
  "language_info": {
   "codemirror_mode": {
    "name": "ipython",
    "version": 3
   },
   "file_extension": ".py",
   "mimetype": "text/x-python",
   "name": "python",
   "nbconvert_exporter": "python",
   "pygments_lexer": "ipython3",
   "version": "3.7.7"
  }
 },
 "nbformat": 4,
 "nbformat_minor": 4
}
